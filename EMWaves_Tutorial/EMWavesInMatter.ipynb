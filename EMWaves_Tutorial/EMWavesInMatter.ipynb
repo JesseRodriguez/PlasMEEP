{
 "cells": [
  {
   "cell_type": "markdown",
   "id": "3d7ce6ab",
   "metadata": {},
   "source": [
    "# EM Waves in Matter\n",
    "\n",
    "In this tutorial, we will use the open-source electromagnetic simulation software MEEP (MIT Electromagnetic Equation Propagation), a finite difference time domain Maxwell solver to simulate the propagation of EM waves through matter, and plasma in particular. To make things easier, we will use the PlasMEEP library, which is effectively a wrapper for MEEP that makes it easier to build plasma-themed electromagnetic devices.\n",
    "\n",
    "Let's begin by importing the relevant libraries and defining the simulation parameters.\n"
   ]
  },
  {
   "cell_type": "code",
   "execution_count": null,
   "id": "00fc9f47",
   "metadata": {},
   "outputs": [],
   "source": [
    "from plasmeep.lib import Plasmeep as pm\n",
    "import matplotlib as mpl\n",
    "mpl.rcParams['figure.dpi']= 1000\n",
    "import matplotlib.pyplot as plt\n",
    "import numpy as np\n",
    "import os\n",
    "\n",
    "a = 0.01 #Dimensionalized unit length in meters\n",
    "res = 50 #Simulation resolution\n",
    "nx = 10  #x-dimension in a units\n",
    "ny = 8   #y-dimension in a units\n",
    "dpml = 1 #Thickness of perfectly matched layer (functions like a radiative BC)\n",
    "B = np.array([0,0,0])    #Externally applied magnetic field"
   ]
  },
  {
   "cell_type": "markdown",
   "id": "04192422",
   "metadata": {},
   "source": [
    "### Propagation through glass (Snell's Law)\n",
    "\n",
    "In an isotropic linear dielectric material, the dielectric constant is best-understood as being equivalent to the index of refraction squared. To illustrate this, for our first simulation we will send a plane wave into a glass prism at different angles to see how the fields behave. Feel free to adjust the angle of the prism, number of frames, or resolution in the cell above in case the simulation is running slowly on your machine.\n"
   ]
  },
  {
   "cell_type": "code",
   "execution_count": null,
   "id": "364cdd57",
   "metadata": {},
   "outputs": [],
   "source": [
    "output = os.getcwd()+'/../outputs/plots/'\n",
    "sim = pm(a, res, dpml, nx, ny, B = B) #Initialize PlasMEEP object\n",
    "\n",
    "## Build Geometry\n",
    "n = 1.52        #Index of refraction of glass\n",
    "eps = n**2      #Relative permittivity\n",
    "theta = np.pi/6 #Angle from normal incidence of the glass prism   \n",
    "\n",
    "## Here we are calculating the position of the vertices of the glass prism\n",
    "v1 = np.array([-2,-4,0])\n",
    "if theta <= np.arctan(7/8):\n",
    "    v2 = np.array([-2+8*np.tan(theta),4,0])\n",
    "    v3 = np.array([5,4,0])\n",
    "    v4 = np.array([5,-4,0])\n",
    "    sim.Add_Prism(np.array([v1, v2, v3, v4]), eps = eps)\n",
    "else:\n",
    "    v2 = np.array([5,7*np.tan(np.pi/2-theta),0])\n",
    "    v3 = np.array([5,-4,0])\n",
    "    sim.Add_Prism(np.array([v1, v2, v3]), eps = eps)\n",
    "\n",
    "## Now add source and simulate\n",
    "freq = 0.8         #Non-dimensionalized frequency\n",
    "pol = [0,0,1]      #Field polarization (in this case, E is pointing out of the screen)\n",
    "src_loc = [-4,0,0] #Source center location\n",
    "src_size = [0,8,0] #Source size (spans whole domain in y-direction here)\n",
    "sim.Add_Cont_Source(freq, pol, src_loc, src_size)\n",
    "\n",
    "sim.Viz_Domain(output+'/Glass_Prism_pi_6')\n",
    "sim.Sim_And_Plot(1.0, 'E', 20, output, 'ez', out_prefix = 'Glass_Prism_pi_6',\\\n",
    "                 remove = True)\n",
    "#sim.Sim_And_Plot_Gif(1.0, 'E', 20, output, 'ez', out_prefix = 'Glass_Prism_pi_6',\\\n",
    "#                     remove = True, filetype = 'gif')"
   ]
  },
  {
   "cell_type": "markdown",
   "id": "b4e58da3",
   "metadata": {},
   "source": [
    "### Higher dielectric constants compress the fields even more\n",
    "\n",
    "We see from the results above that in addition to the refraction at off-normal incidence, the wavelength within the material is smaller than in free space, and the velocity of the wave is greatly reduced as well. For some materials like ceramics, the dielectric constant can be as high as 12."
   ]
  },
  {
   "cell_type": "code",
   "execution_count": null,
   "id": "4a51b91d",
   "metadata": {},
   "outputs": [],
   "source": [
    "sim = pm(a, res, dpml, nx, ny, B = B) #Re-Initialize PlasMEEP object\n",
    "\n",
    "## Build Geometry (simple for normal incidence)\n",
    "sim.Add_Block(low_left = [-2,-4,0], size = [7,8,0], eps = 12)\n",
    "\n",
    "## Now add source and simulate\n",
    "freq = 0.5         #Non-dimensionalized frequency\n",
    "pol = [0,0,1]      #Field polarization (in this case, E is pointing out of the screen)\n",
    "src_loc = [-4,0,0] #Source center location\n",
    "src_size = [0,8,0] #Source size (spans whole domain in y-direction here)\n",
    "sim.Add_Cont_Source(freq, pol, src_loc, src_size)\n",
    "\n",
    "sim.Viz_Domain(output+'/Ceramic_Prism')\n",
    "sim.Sim_And_Plot(1.0, 'E', 20, output, 'ez', out_prefix = 'Ceramic_Prism',\\\n",
    "                 remove = True)\n",
    "#sim.Sim_And_Plot_Gif(1.0, 'E', 20, output, 'ez', out_prefix = 'Ceramic_Prism',\\\n",
    "#                     remove = True, filetype = 'gif')"
   ]
  },
  {
   "cell_type": "markdown",
   "id": "d4360708",
   "metadata": {},
   "source": [
    "### Plasma allows us to access permittivity values less than 1\n",
    "When the incident wave frequency is greater than the plasma frequency, the relative permittivity of the plasma is greater than 0 and less than 1. This causes waves to stretch -  and their phase velocity becomes superluminar."
   ]
  },
  {
   "cell_type": "code",
   "execution_count": null,
   "id": "67679aeb",
   "metadata": {},
   "outputs": [],
   "source": [
    "sim = pm(a, res, dpml, nx, ny, B = B) #Re-Initialize PlasMEEP object\n",
    "\n",
    "## Build Geometry (simple for normal incidence)\n",
    "# Note that we include a plasma frequency in the arguments of the function - \n",
    "# this designates that the block is made of plasma\n",
    "sim.Add_Block(low_left = [-2,-4,0], size = [7,8,0], eps = 1, wp = 0.7, gamma = 0)\n",
    "    \n",
    "## Now add source and simulate\n",
    "freq = 0.8         #Non-dimensionalized frequency\n",
    "pol = [0,0,1]      #Field polarization (in this case, E is pointing out of the screen)\n",
    "src_loc = [-4,0,0] #Source center location\n",
    "src_size = [0,8,0] #Source size (spans whole domain in y-direction here)\n",
    "sim.Add_Cont_Source(freq, pol, src_loc, src_size)\n",
    "\n",
    "sim.Viz_Domain(output+'/Plasma_underdense')\n",
    "sim.Sim_And_Plot(1.0, 'E', 20, output, 'ez', out_prefix = 'Plasma_underdense',\\\n",
    "                 remove = True)\n",
    "#sim.Sim_And_Plot_Gif(1.0, 'E', 20, output, 'ez', out_prefix = 'Plasma_underdense',\\\n",
    "#                     remove = True, filetype = 'gif')"
   ]
  },
  {
   "cell_type": "markdown",
   "id": "24610f9b",
   "metadata": {},
   "source": [
    "### We can access negative permittivities when fp > f\n",
    "Here we can see that the plasma becomes reflective and enters the metallic regime."
   ]
  },
  {
   "cell_type": "code",
   "execution_count": null,
   "id": "2c2285ab",
   "metadata": {},
   "outputs": [],
   "source": [
    "sim = pm(a, res, dpml, nx, ny, B = B) #Re-Initialize PlasMEEP object\n",
    "\n",
    "## Build Geometry (simple for normal incidence)\n",
    "sim.Add_Block(low_left = [-2,-4,0], size = [7,8,0], eps = 1, wp = 1.6, gamma = 0)\n",
    "    \n",
    "## Now add source and simulate\n",
    "freq = 0.8         #Non-dimensionalized frequency\n",
    "pol = [0,0,1]      #Field polarization (in this case, E is pointing out of the screen)\n",
    "src_loc = [-4,0,0] #Source center location\n",
    "src_size = [0,8,0] #Source size (spans whole domain in y-direction here)\n",
    "sim.Add_Cont_Source(freq, pol, src_loc, src_size)\n",
    "\n",
    "sim.Viz_Domain(output+'/Plasma_overdense')\n",
    "sim.Sim_And_Plot(1.0, 'E', 20, output, 'ez', out_prefix = 'Plasma_overdense',\\\n",
    "                 remove = True)\n",
    "#sim.Sim_And_Plot_Gif(1.0, 'E', 20, output, 'ez', out_prefix = 'Plasma_overdense',\\\n",
    "#                     remove = True, filetype = 'gif')"
   ]
  },
  {
   "cell_type": "markdown",
   "id": "7a3588f6",
   "metadata": {},
   "source": [
    "### What happens if fp = f_src?"
   ]
  },
  {
   "cell_type": "code",
   "execution_count": null,
   "id": "cec72142",
   "metadata": {},
   "outputs": [],
   "source": [
    "nx = 20 #Make domain longer to show the desired effect\n",
    "sim = pm(a, res, dpml, nx, ny, B = B) #Re-Initialize PlasMEEP object\n",
    "\n",
    "## Build Geometry (simple for normal incidence)\n",
    "sim.Add_Block(low_left = [-7,-4,0], size = [17,8,0], eps = 1, wp = 0.5, gamma = 0)\n",
    "    \n",
    "## Now add source and simulate\n",
    "freq = 0.5         #Non-dimensionalized frequency\n",
    "pol = [0,0,1]      #Field polarization (in this case, E is pointing out of the screen)\n",
    "src_loc = [-9,0,0] #Source center location\n",
    "src_size = [0,8,0] #Source size (spans whole domain in y-direction here)\n",
    "sim.Add_Cont_Source(freq, pol, src_loc, src_size)\n",
    "\n",
    "sim.Viz_Domain(output+'/Plasma_ZIM')\n",
    "sim.Sim_And_Plot(1.0, 'E', 20, output, 'ez', out_prefix = 'Plasma_ZIM',\\\n",
    "                 remove = True)\n",
    "#sim.Sim_And_Plot_Gif(1.0, 'E', 20, output, 'ez', out_prefix = 'Plasma_ZIM',\\\n",
    "#                     remove = True, filetype = 'gif')"
   ]
  },
  {
   "cell_type": "markdown",
   "id": "6d11e9b9",
   "metadata": {},
   "source": [
    "### There are ways to make a medium behave like a true zero-index medium\n",
    "By using photonic crystal structures with exotic EM properties, we can get an array of dielectric rods to behave like a true zero-index medium. To get an idea of what a ZIM really behaves like and see the kinds of crazy things you can simulate with Meep, we'll construct such a device here. See \n",
    "\n",
    "*X. Huang, Y. Lai, Z. H. Hang, H. Zheng, and C. T. Chan, \"Dirac cones induced by accidental degeneracy in photonic crystals and zero-refractive-index materials\" Nat. Mater. 10, 582 (2011).* \n",
    "\n",
    "*J. A. Rodríguez, B. Wang, and M. A. Cappelli, \"Dual-polarization Dirac cones in a simple 2D square lattice photonic crystal,\" Opt. Lett. 45, 2486-2489 (2020)* \n",
    "\n",
    "for some detailed discussion of devices like this. "
   ]
  },
  {
   "cell_type": "code",
   "execution_count": null,
   "id": "3ddf576b",
   "metadata": {},
   "outputs": [],
   "source": [
    "## The domain needs to be much larger this time (this one may take a while)\n",
    "res = 16\n",
    "ny = 40\n",
    "nx = 40\n",
    "sim = pm(a, res, dpml, nx, ny, B = B) #Re-Initialize PlasMEEP object\n",
    "\n",
    "## Build Geometry, this time an array of cylindrical rods\n",
    "rod_eps = np.zeros((20,20,3))\n",
    "rod_eps[:,:,0] = 12.5*np.ones((20,20))\n",
    "sim.Rod_Array(r = 0.2, xyz_start = [-10, -10, 0], a_l = 1,\\\n",
    "              rod_eps = rod_eps, axis = [0, 0, 1])\n",
    "    \n",
    "## Now add source and simulate\n",
    "freq = 0.541        #Non-dimensionalized frequency\n",
    "pol = [0,0,1]       #Field polarization (in this case, E is pointing out of the screen)\n",
    "src_loc = [-19,0,0] #Source center location\n",
    "src_size = [0,20,0] #Source size (spans crystal in y-direction here)\n",
    "sim.Add_Cont_Source(freq, pol, src_loc, src_size)\n",
    "\n",
    "sim.Viz_Domain(output+'/Dirac_ZIM')\n",
    "sim.Sim_And_Plot(1.0, 'E', 150, output, 'ez', out_prefix = 'Dirac_ZIM',\\\n",
    "                 remove = True)\n",
    "#sim.Sim_And_Plot_Gif(1.0, 'E', 150, output, 'ez', out_prefix = 'Dirac_ZIM',\\\n",
    "#                     remove = True, filetype = 'gif', intensity = 1.5)"
   ]
  }
 ],
 "metadata": {
  "kernelspec": {
   "display_name": "Python 3 (ipykernel)",
   "language": "python",
   "name": "python3"
  },
  "language_info": {
   "codemirror_mode": {
    "name": "ipython",
    "version": 3
   },
   "file_extension": ".py",
   "mimetype": "text/x-python",
   "name": "python",
   "nbconvert_exporter": "python",
   "pygments_lexer": "ipython3",
   "version": "3.11.3"
  }
 },
 "nbformat": 4,
 "nbformat_minor": 5
}
